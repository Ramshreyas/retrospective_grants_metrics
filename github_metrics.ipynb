{
 "cells": [
  {
   "cell_type": "markdown",
   "metadata": {},
   "source": [
    "# Github Metrics"
   ]
  },
  {
   "cell_type": "markdown",
   "metadata": {},
   "source": [
    "---\n",
    "\n",
    "### Imports & Setup"
   ]
  },
  {
   "cell_type": "code",
   "execution_count": null,
   "metadata": {},
   "outputs": [],
   "source": [
    "import requests\n",
    "import json\n",
    "from IPython.display import display, JSON"
   ]
  },
  {
   "cell_type": "markdown",
   "metadata": {},
   "source": [
    "GraphQL  Query function"
   ]
  },
  {
   "cell_type": "code",
   "execution_count": null,
   "metadata": {},
   "outputs": [],
   "source": [
    "def execute_graphql_query(query, variables=None, token=\"your_github_token_here\"):\n",
    "    \"\"\"\n",
    "    Executes a GraphQL query to the GitHub API.\n",
    "\n",
    "    Args:\n",
    "    query (str): The GraphQL query to execute.\n",
    "    variables (dict, optional): Variables required for the query. Defaults to None.\n",
    "    token (str): GitHub API token for authentication.\n",
    "\n",
    "    Returns:\n",
    "    dict: The JSON response from the API.\n",
    "    \"\"\"\n",
    "    # Endpoint for GitHub's GraphQL API\n",
    "    url = 'https://api.github.com/graphql'\n",
    "    \n",
    "    # Headers including the authentication token\n",
    "    headers = {\n",
    "        'Authorization': f'Bearer {token}',\n",
    "        'Content-Type': 'application/json'\n",
    "    }\n",
    "    \n",
    "    # Package the request\n",
    "    payload = json.dumps({\n",
    "        'query': query,\n",
    "        'variables': variables\n",
    "    })\n",
    "    \n",
    "    # Make the HTTP POST request\n",
    "    response = requests.post(url, headers=headers, data=payload)\n",
    "    \n",
    "    # Check if the response was successful\n",
    "    if response.status_code == 200:\n",
    "        response_data = response.json()  # Parse JSON response\n",
    "        display(JSON(response_data))  # Display the response in JSON format for clarity\n",
    "        return response_data\n",
    "    else:\n",
    "        print(f\"Query failed with status code {response.status_code}: {response.text}\")\n",
    "        return None"
   ]
  },
  {
   "cell_type": "markdown",
   "metadata": {},
   "source": [
    "Test"
   ]
  },
  {
   "cell_type": "code",
   "execution_count": null,
   "metadata": {},
   "outputs": [],
   "source": [
    "token = \"\"\n",
    "\n",
    "query = \"\"\"\n",
    "query GetRepositoryInfo($owner: String!, $repo: String!) {\n",
    "    repository(owner: $owner, name: $repo) {\n",
    "        name\n",
    "        description\n",
    "        stargazerCount\n",
    "    }\n",
    "}\n",
    "\"\"\"\n",
    "\n",
    "variables = {\n",
    "    \"owner\": \"octocat\",\n",
    "    \"repo\": \"Hello-World\"\n",
    "}\n",
    "\n",
    "# Execute the query\n",
    "execute_graphql_query(query, variables, token)"
   ]
  },
  {
   "cell_type": "markdown",
   "metadata": {},
   "source": [
    "HTTP API"
   ]
  },
  {
   "cell_type": "code",
   "execution_count": null,
   "metadata": {},
   "outputs": [],
   "source": [
    "def execute_http_query(url, method='GET', headers=None, data=None, params=None, token=None):\n",
    "    \"\"\"\n",
    "    Executes a generic HTTP request to the GitHub API.\n",
    "\n",
    "    Args:\n",
    "    url (str): The full URL to the GitHub API endpoint.\n",
    "    method (str): The HTTP method to use ('GET', 'POST', etc.).\n",
    "    headers (dict, optional): Additional HTTP headers as a dictionary.\n",
    "    data (dict, optional): Data to send with the request (for POST, PUT methods).\n",
    "    params (dict, optional): URL parameters to append to the request.\n",
    "    token (str, optional): GitHub API token for authentication.\n",
    "\n",
    "    Returns:\n",
    "    dict or str: The API response in JSON format if possible, otherwise as raw text.\n",
    "    \"\"\"\n",
    "    # Ensure headers dictionary is initialized\n",
    "    if headers is None:\n",
    "        headers = {}\n",
    "\n",
    "    # If a token is provided, add it to the headers\n",
    "    if token:\n",
    "        headers['Authorization'] = f'token {token}'\n",
    "\n",
    "    # Set default headers for GitHub API (Accept JSON response)\n",
    "    headers.setdefault('Accept', 'application/vnd.github.v3+json')\n",
    "\n",
    "    try:\n",
    "        # Make the HTTP request\n",
    "        response = requests.request(method, url, headers=headers, json=data, params=params)\n",
    "        response.raise_for_status()  # Raises an HTTPError for bad responses\n",
    "\n",
    "        # Try to return JSON if possible, otherwise return text\n",
    "        return response.json()\n",
    "    except requests.exceptions.HTTPError as e:\n",
    "        print(f\"HTTP Error: {e.response.status_code} {e.response.reason}\")\n",
    "    except requests.exceptions.RequestException as e:\n",
    "        print(f\"Request failed: {e}\")\n",
    "    except ValueError:  # Includes simplejson.decoder.JSONDecodeError\n",
    "        return response.text  # Return plain text if JSON decoding fails"
   ]
  },
  {
   "cell_type": "markdown",
   "metadata": {},
   "source": [
    "Test"
   ]
  },
  {
   "cell_type": "code",
   "execution_count": null,
   "metadata": {},
   "outputs": [],
   "source": [
    "url = 'https://api.github.com/repos/octocat/Hello-World/issues'  # Example URL to list issues in a repository\n",
    "response = execute_http_query(url, token=token)\n",
    "pprint(response)"
   ]
  },
  {
   "cell_type": "markdown",
   "metadata": {},
   "source": [
    "---\n",
    "\n",
    "## Metrics\n",
    "\n",
    "Set Org and Repo"
   ]
  },
  {
   "cell_type": "code",
   "execution_count": null,
   "metadata": {},
   "outputs": [],
   "source": [
    "owner = \"the-candy-shop\"\n",
    "repo = \"starksheet-monorepo\""
   ]
  },
  {
   "cell_type": "markdown",
   "metadata": {},
   "source": [
    "Examples"
   ]
  },
  {
   "cell_type": "code",
   "execution_count": null,
   "metadata": {},
   "outputs": [],
   "source": [
    "# Fetching Contributors\n",
    "contributors_url = f'https://api.github.com/repos/{owner}/{repo}/contributors'\n",
    "contributors_response = execute_http_query(contributors_url, token=token)\n",
    "pprint(contributors_response)"
   ]
  },
  {
   "cell_type": "code",
   "execution_count": null,
   "metadata": {},
   "outputs": [],
   "source": [
    "# Fetching Commit Data\n",
    "commits_url = f'https://api.github.com/repos/{owner}/{repo}/commits'\n",
    "commits_response = execute_http_query(commits_url, token=token)\n",
    "pprint(commits_response)"
   ]
  },
  {
   "cell_type": "code",
   "execution_count": null,
   "metadata": {},
   "outputs": [],
   "source": [
    "# Fetching Issues Data\n",
    "issues_url = f'https://api.github.com/repos/{owner}/{repo}/issues'\n",
    "issues_response = execute_http_query(issues_url, token=token)\n",
    "pprint(issues_response)"
   ]
  },
  {
   "cell_type": "code",
   "execution_count": null,
   "metadata": {},
   "outputs": [],
   "source": [
    "# Fetching Pull Requests\n",
    "pulls_url = f'https://api.github.com/repos/{owner}/{repo}/pulls'\n",
    "pulls_response = execute_http_query(pulls_url, token=token)\n",
    "pprint(pulls_response)"
   ]
  }
 ],
 "metadata": {
  "kernelspec": {
   "display_name": "Python 3",
   "language": "python",
   "name": "python3"
  },
  "language_info": {
   "codemirror_mode": {
    "name": "ipython",
    "version": 3
   },
   "file_extension": ".py",
   "mimetype": "text/x-python",
   "name": "python",
   "nbconvert_exporter": "python",
   "pygments_lexer": "ipython3",
   "version": "3.11.9"
  }
 },
 "nbformat": 4,
 "nbformat_minor": 2
}
