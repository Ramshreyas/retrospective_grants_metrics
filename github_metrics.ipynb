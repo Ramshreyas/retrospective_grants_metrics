{
 "cells": [
  {
   "cell_type": "markdown",
   "metadata": {},
   "source": [
    "# Github Metrics\n",
    "\n",
    "[![Open In Colab](https://colab.research.google.com/assets/colab-badge.svg)](https://colab.research.google.com/github/Ramshreyas/retrospective_grants_metrics/blob/main/github_metrics.ipynb)\n"
   ]
  },
  {
   "cell_type": "markdown",
   "metadata": {},
   "source": [
    "---\n",
    "\n",
    "### Imports & Setup"
   ]
  },
  {
   "cell_type": "code",
   "execution_count": null,
   "metadata": {},
   "outputs": [],
   "source": [
    "# %pip install python-dotenv"
   ]
  },
  {
   "cell_type": "code",
   "execution_count": null,
   "metadata": {},
   "outputs": [],
   "source": [
    "from datetime import datetime\n",
    "import requests\n",
    "import json\n",
    "from IPython.display import display, JSON\n",
    "from pprint import pprint\n",
    "from dotenv import load_dotenv\n",
    "import os\n",
    "load_dotenv()"
   ]
  },
  {
   "cell_type": "markdown",
   "metadata": {},
   "source": [
    "GraphQL  Query function"
   ]
  },
  {
   "cell_type": "code",
   "execution_count": null,
   "metadata": {},
   "outputs": [],
   "source": [
    "def execute_graphql_query(query, variables=None, token=\"your_github_token_here\"):\n",
    "    \"\"\"\n",
    "    Executes a GraphQL query to the GitHub API.\n",
    "\n",
    "    Args:\n",
    "    query (str): The GraphQL query to execute.\n",
    "    variables (dict, optional): Variables required for the query. Defaults to None.\n",
    "    token (str): GitHub API token for authentication.\n",
    "\n",
    "    Returns:\n",
    "    dict: The JSON response from the API.\n",
    "    \"\"\"\n",
    "    # Endpoint for GitHub's GraphQL API\n",
    "    url = 'https://api.github.com/graphql'\n",
    "    \n",
    "    # Headers including the authentication token\n",
    "    headers = {\n",
    "        'Authorization': f'Bearer {token}',\n",
    "        'Content-Type': 'application/json'\n",
    "    }\n",
    "    \n",
    "    # Package the request\n",
    "    payload = json.dumps({\n",
    "        'query': query,\n",
    "        'variables': variables\n",
    "    })\n",
    "    \n",
    "    # Make the HTTP POST request\n",
    "    response = requests.post(url, headers=headers, data=payload)\n",
    "    \n",
    "    # Check if the response was successful\n",
    "    if response.status_code == 200:\n",
    "        response_data = response.json()  # Parse JSON response\n",
    "        display(JSON(response_data))  # Display the response in JSON format for clarity\n",
    "        return response_data\n",
    "    else:\n",
    "        print(f\"Query failed with status code {response.status_code}: {response.text}\")\n",
    "        return None"
   ]
  },
  {
   "cell_type": "markdown",
   "metadata": {},
   "source": [
    "Test"
   ]
  },
  {
   "cell_type": "code",
   "execution_count": null,
   "metadata": {},
   "outputs": [],
   "source": [
    "token = os.getenv(\"GITHUB_TOKEN\")\n",
    "\n",
    "query = \"\"\"\n",
    "query GetRepositoryInfo($owner: String!, $repo: String!) {\n",
    "    repository(owner: $owner, name: $repo) {\n",
    "        name\n",
    "        description\n",
    "        stargazerCount\n",
    "    }\n",
    "}\n",
    "\"\"\"\n",
    "\n",
    "variables = {\n",
    "    \"owner\": \"octocat\",\n",
    "    \"repo\": \"Hello-World\"\n",
    "}\n",
    "\n",
    "# Execute the query\n",
    "execute_graphql_query(query, variables, token)"
   ]
  },
  {
   "cell_type": "markdown",
   "metadata": {},
   "source": [
    "HTTP API"
   ]
  },
  {
   "cell_type": "code",
   "execution_count": null,
   "metadata": {},
   "outputs": [],
   "source": [
    "def execute_http_query(url, method='GET', headers=None, data=None, params=None, token=None):\n",
    "    \"\"\"\n",
    "    Executes a generic HTTP request to the GitHub API.\n",
    "    \n",
    "    Args:\n",
    "    url (str): The full URL to the GitHub API endpoint.\n",
    "    method (stra): The HTTP method to use ('GET', 'POST', etc.).\n",
    "    headers (dict, optional): Additional HTTP headers as a dictionary.\n",
    "    data (dict, optional): Data to send with the request (for POST, PUT methods).\n",
    "    params (dict, optional): URL parameters to append to the request.\n",
    "    token (str, optional): GitHub API token for authentication.\n",
    "\n",
    "    Returns:\n",
    "    tuple: (response content as JSON if available, headers of the response)\n",
    "    \"\"\"\n",
    "    # Initialize headers if not provided\n",
    "    if headers is None:\n",
    "        headers = {}\n",
    "    # Add the authorization token to headers if provided\n",
    "    if token:\n",
    "        headers['Authorization'] = f'token {token}'\n",
    "    headers.setdefault('Accept', 'application/vnd.github.v3+json')\n",
    "\n",
    "    try:\n",
    "        # Make the HTTP request\n",
    "        response = requests.request(method, url, headers=headers, json=data, params=params)\n",
    "        response.raise_for_status()  # Raises an HTTPError for bad responses\n",
    "        return response.json(), response.headers\n",
    "    except requests.exceptions.HTTPError as e:\n",
    "        print(f\"HTTP Error: {e.response.status_code} {e.response.reason}\")\n",
    "    except requests.exceptions.RequestException as e:\n",
    "        print(f\"Request failed: {e}\")\n",
    "    except ValueError:  # Includes simplejson.decoder.JSONDecodeError\n",
    "        return response.text, response.headers  # Return plain text if JSON decoding fails"
   ]
  },
  {
   "cell_type": "markdown",
   "metadata": {},
   "source": [
    "Test"
   ]
  },
  {
   "cell_type": "code",
   "execution_count": null,
   "metadata": {},
   "outputs": [],
   "source": [
    "url = 'https://api.github.com/repos/octocat/Hello-World/issues'  # Example URL to list issues in a repository\n",
    "response = execute_http_query(url, token=token)\n",
    "pprint(response)"
   ]
  },
  {
   "cell_type": "code",
   "execution_count": null,
   "metadata": {},
   "outputs": [],
   "source": [
    "owner = \"the-candy-shop\"\n",
    "repo = \"starksheet-monorepo\""
   ]
  },
  {
   "cell_type": "markdown",
   "metadata": {},
   "source": [
    "Examples"
   ]
  },
  {
   "cell_type": "code",
   "execution_count": null,
   "metadata": {},
   "outputs": [],
   "source": [
    "# Fetching Contributors\n",
    "contributors_url = f'https://api.github.com/repos/{owner}/{repo}/contributors'\n",
    "contributors_response = execute_http_query(contributors_url, token=token)\n",
    "pprint(contributors_response)"
   ]
  },
  {
   "cell_type": "code",
   "execution_count": null,
   "metadata": {},
   "outputs": [],
   "source": [
    "# Fetching Commit Data\n",
    "commits_url = f'https://api.github.com/repos/{owner}/{repo}/commits'\n",
    "commits_response = execute_http_query(commits_url, token=token)\n",
    "pprint(commits_response)"
   ]
  },
  {
   "cell_type": "code",
   "execution_count": null,
   "metadata": {},
   "outputs": [],
   "source": [
    "# Fetching Issues Data\n",
    "issues_url = f'https://api.github.com/repos/{owner}/{repo}/issues'\n",
    "issues_response = execute_http_query(issues_url, token=token)\n",
    "pprint(issues_response)"
   ]
  },
  {
   "cell_type": "code",
   "execution_count": null,
   "metadata": {},
   "outputs": [],
   "source": [
    "# Fetching Pull Requests\n",
    "pulls_url = f'https://api.github.com/repos/{owner}/{repo}/pulls'\n",
    "pulls_response = execute_http_query(pulls_url, token=token)\n",
    "pprint(pulls_response)"
   ]
  },
  {
   "cell_type": "markdown",
   "metadata": {},
   "source": [
    "---\n",
    "\n",
    "## Metrics\n",
    "\n",
    "Set Org and Repo"
   ]
  },
  {
   "cell_type": "code",
   "execution_count": null,
   "metadata": {},
   "outputs": [],
   "source": [
    "owner = \"the-candy-shop\"\n",
    "repo = \"starksheet-monorepo\""
   ]
  },
  {
   "cell_type": "markdown",
   "metadata": {},
   "source": [
    "Fetch repo data"
   ]
  },
  {
   "cell_type": "code",
   "execution_count": null,
   "metadata": {},
   "outputs": [],
   "source": [
    "# Fetching Repository Star Count\n",
    "stars_url = f'https://api.github.com/repos/{owner}/{repo}'\n",
    "response = execute_http_query(stars_url, token=token)[0]"
   ]
  },
  {
   "cell_type": "markdown",
   "metadata": {},
   "source": [
    "Stars"
   ]
  },
  {
   "cell_type": "code",
   "execution_count": null,
   "metadata": {},
   "outputs": [],
   "source": [
    "pprint(response[\"stargazers_count\"])"
   ]
  },
  {
   "cell_type": "markdown",
   "metadata": {},
   "source": [
    "Forks"
   ]
  },
  {
   "cell_type": "code",
   "execution_count": null,
   "metadata": {},
   "outputs": [],
   "source": [
    "response[\"forks_count\"]"
   ]
  },
  {
   "cell_type": "markdown",
   "metadata": {},
   "source": [
    "Pull Requests"
   ]
  },
  {
   "cell_type": "code",
   "execution_count": null,
   "metadata": {},
   "outputs": [],
   "source": [
    "def fetch_total_pull_requests(owner, repo, token):\n",
    "    \"\"\"\n",
    "    Fetches the total number of pull requests for a given repository.\n",
    "\n",
    "    Args:\n",
    "    owner (str): GitHub repository owner.\n",
    "    repo (str): GitHub repository name.\n",
    "    token (str): GitHub API token.\n",
    "\n",
    "    Returns:\n",
    "    int: Total number of pull requests.\n",
    "    \"\"\"\n",
    "    base_url = f'https://api.github.com/repos/{owner}/{repo}/pulls'\n",
    "    params = {'per_page': 100, 'state': 'all'}  # Fetch all PRs, both open and closed\n",
    "    total_pull_requests = 0\n",
    "    while True:\n",
    "        response, headers = execute_http_query(base_url, params=params, token=token)\n",
    "        total_pull_requests += len(response)\n",
    "        if 'next' in headers.get('Link', ''):\n",
    "            next_link = headers['Link']\n",
    "            # Extract the URL for the next page from the 'Link' header\n",
    "            next_url = next_link.split(';')[0].strip('<>')\n",
    "            base_url = next_url  # Update the URL to the next page's URL\n",
    "        else:\n",
    "            break\n",
    "\n",
    "    return total_pull_requests\n",
    "\n",
    "total_prs = fetch_total_pull_requests(owner, repo, token)\n",
    "print(f\"Total number of pull requests: {total_prs}\")"
   ]
  },
  {
   "cell_type": "markdown",
   "metadata": {},
   "source": [
    "Issues"
   ]
  },
  {
   "cell_type": "code",
   "execution_count": null,
   "metadata": {},
   "outputs": [],
   "source": [
    "query = \"\"\"\n",
    "query GetRepositoryInfo($owner: String!, $repo: String!) {\n",
    "  repository(owner: $owner, name: $repo) {\n",
    "    all:issues {\n",
    "      totalCount\n",
    "    }\n",
    "    closed:issues(states:CLOSED) {\n",
    "      totalCount\n",
    "    }\n",
    "    open:issues(states:OPEN) {\n",
    "      totalCount\n",
    "    }\n",
    "  }\n",
    "}\n",
    "\"\"\"\n",
    "\n",
    "variables = {\n",
    "    \"owner\": owner,\n",
    "    \"repo\": repo\n",
    "}\n",
    "\n",
    "# Execute the query\n",
    "response = execute_graphql_query(query, variables, token)\n",
    "print(\"All: \", response[\"data\"][\"repository\"][\"all\"][\"totalCount\"])\n",
    "print(\"Closed: \", response[\"data\"][\"repository\"][\"closed\"][\"totalCount\"])\n",
    "print(\"Open: \", response[\"data\"][\"repository\"][\"open\"][\"totalCount\"])"
   ]
  },
  {
   "cell_type": "markdown",
   "metadata": {},
   "source": [
    "Issue-Resolution turn around time"
   ]
  },
  {
   "cell_type": "code",
   "execution_count": null,
   "metadata": {},
   "outputs": [],
   "source": [
    "def calculate_average_turnaround(data):\n",
    "    times = []\n",
    "    for edge in data['data']['repository']['issues']['edges']:\n",
    "        if edge['node']['closedAt']:\n",
    "            start = datetime.fromisoformat(edge['node']['createdAt'].replace('Z', '+00:00'))\n",
    "            end = datetime.fromisoformat(edge['node']['closedAt'].replace('Z', '+00:00'))\n",
    "            delta = end - start\n",
    "            times.append(delta.total_seconds())\n",
    "\n",
    "    average_seconds = sum(times) / len(times) if times else 0\n",
    "    return average_seconds / 86400  # Convert seconds to days\n",
    "\n",
    "# Query\n",
    "query = \"\"\"\n",
    "query GetIssueTurnaroundTimes($owner: String!, $repo: String!) {\n",
    "  repository(owner: $owner, name: $repo) {\n",
    "    issues(first: 100) {  # Adjust 'first' for pagination\n",
    "      edges {\n",
    "        node {\n",
    "          createdAt\n",
    "          closedAt\n",
    "        }\n",
    "      }\n",
    "      pageInfo {\n",
    "        endCursor\n",
    "        hasNextPage\n",
    "      }\n",
    "    }\n",
    "  }\n",
    "}\n",
    "\"\"\"\n",
    "\n",
    "# Execute the query\n",
    "response_data = execute_graphql_query(query, variables, token)\n",
    "\n",
    "# Calculate the average turnaround time\n",
    "average_days = calculate_average_turnaround(response_data)\n",
    "print(f\"Average Turnaround Time: {average_days} days\")\n"
   ]
  },
  {
   "cell_type": "code",
   "execution_count": null,
   "metadata": {},
   "outputs": [],
   "source": []
  }
 ],
 "metadata": {
  "kernelspec": {
   "display_name": "Python 3",
   "language": "python",
   "name": "python3"
  },
  "language_info": {
   "codemirror_mode": {
    "name": "ipython",
    "version": 3
   },
   "file_extension": ".py",
   "mimetype": "text/x-python",
   "name": "python",
   "nbconvert_exporter": "python",
   "pygments_lexer": "ipython3",
   "version": "3.11.9"
  }
 },
 "nbformat": 4,
 "nbformat_minor": 2
}
