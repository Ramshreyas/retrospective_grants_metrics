{
  "cells": [
    {
      "cell_type": "markdown",
      "metadata": {
        "id": "Zh6OUPfJKRKs"
      },
      "source": [
        "# Master Metrics for L2 Retrospecive Grants\n",
        "\n",
        "[![Open In Colab](https://colab.research.google.com/assets/colab-badge.svg)](https://colab.research.google.com/github/Ramshreyas/retrospective_grants_metrics/blob/main/master_metrics.ipynb)"
      ]
    },
    {
      "cell_type": "markdown",
      "metadata": {
        "id": "dICbOsOVKRKt"
      },
      "source": [
        "---\n",
        "\n",
        "### Setup & Imports"
      ]
    },
    {
      "cell_type": "markdown",
      "metadata": {
        "id": "0L_I-xwORaoV"
      },
      "source": [
        "Installs"
      ]
    },
    {
      "cell_type": "code",
      "execution_count": null,
      "metadata": {
        "colab": {
          "base_uri": "https://localhost:8080/"
        },
        "id": "YJT_QVGWKaEM",
        "outputId": "d0b8a82c-5504-4fd3-ece5-fcb309c7d1ff"
      },
      "outputs": [],
      "source": [
        "!pip install pandas"
      ]
    },
    {
      "cell_type": "markdown",
      "metadata": {
        "id": "RpuT9IS7QKzR"
      },
      "source": [
        "Imports"
      ]
    },
    {
      "cell_type": "code",
      "execution_count": null,
      "metadata": {
        "id": "DxotV51IKg8O"
      },
      "outputs": [],
      "source": [
        "from google.colab import files\n",
        "import pandas as pd\n",
        "import io\n",
        "from datetime import datetime\n",
        "import requests\n",
        "import json\n",
        "from IPython.display import display, JSON, clear_output\n",
        "from pprint import pprint\n",
        "from time import sleep\n",
        "import warnings\n",
        "warnings.filterwarnings('ignore')"
      ]
    },
    {
      "cell_type": "markdown",
      "metadata": {
        "id": "YsvcTdIZQF_h"
      },
      "source": [
        "Repo owner and name extraction function"
      ]
    },
    {
      "cell_type": "code",
      "execution_count": null,
      "metadata": {
        "id": "6XosQyFOQEoY"
      },
      "outputs": [],
      "source": [
        "def extract_github_owner_repo(df, url_column):\n",
        "    results = []\n",
        "    for url in df[url_column]:\n",
        "        # Check if the URL is a string and contains the expected 'github.com'\n",
        "        if isinstance(url, str) and 'github.com/' in url:\n",
        "            # Split the URL to isolate the owner and repo\n",
        "            parts = url.split('github.com/')[-1].split('/')\n",
        "            if len(parts) >= 2:\n",
        "                owner, repo = parts[0], parts[1]\n",
        "                results.append((owner, repo))\n",
        "            else:\n",
        "                # Handle cases where URL might not correctly split into owner/repo\n",
        "                results.append((parts[0], None))\n",
        "        else:\n",
        "            # Append None or placeholders if URL is not valid or missing\n",
        "            results.append((None, None))\n",
        "    return results"
      ]
    },
    {
      "cell_type": "markdown",
      "metadata": {
        "id": "z6JmE2ogRzHA"
      },
      "source": [
        "GraphQL Query Function"
      ]
    },
    {
      "cell_type": "code",
      "execution_count": null,
      "metadata": {
        "id": "9ZmL0ffqR1_C"
      },
      "outputs": [],
      "source": [
        "def execute_graphql_query(query, variables=None, token=\"your_github_token_here\"):\n",
        "    \"\"\"\n",
        "    Executes a GraphQL query to the GitHub API.\n",
        "\n",
        "    Args:\n",
        "    query (str): The GraphQL query to execute.\n",
        "    variables (dict, optional): Variables required for the query. Defaults to None.\n",
        "    token (str): GitHub API token for authentication.\n",
        "\n",
        "    Returns:\n",
        "    dict: The JSON response from the API.\n",
        "    \"\"\"\n",
        "    # Endpoint for GitHub's GraphQL API\n",
        "    url = 'https://api.github.com/graphql'\n",
        "\n",
        "    # Headers including the authentication token\n",
        "    headers = {\n",
        "        'Authorization': f'Bearer {token}',\n",
        "        'Content-Type': 'application/json'\n",
        "    }\n",
        "\n",
        "    # Package the request\n",
        "    payload = json.dumps({\n",
        "        'query': query,\n",
        "        'variables': variables\n",
        "    })\n",
        "\n",
        "    # Make the HTTP POST request\n",
        "    response = requests.post(url, headers=headers, data=payload)\n",
        "\n",
        "    # Check if the response was successful\n",
        "    if response.status_code == 200:\n",
        "        response_data = response.json()  # Parse JSON response\n",
        "        display(JSON(response_data))  # Display the response in JSON format for clarity\n",
        "        return response_data\n",
        "    else:\n",
        "        print(f\"Query failed with status code {response.status_code}: {response.text}\")\n",
        "        return None"
      ]
    },
    {
      "cell_type": "markdown",
      "metadata": {
        "id": "iQIb9jraSJ2d"
      },
      "source": [
        "HTTP Query Function"
      ]
    },
    {
      "cell_type": "code",
      "execution_count": null,
      "metadata": {
        "id": "OKnRdkwlSMc3"
      },
      "outputs": [],
      "source": [
        "def execute_http_query(url, method='GET', headers=None, data=None, params=None, token=None):\n",
        "    \"\"\"\n",
        "    Executes a generic HTTP request to the GitHub API.\n",
        "\n",
        "    Args:\n",
        "    url (str): The full URL to the GitHub API endpoint.\n",
        "    method (stra): The HTTP method to use ('GET', 'POST', etc.).\n",
        "    headers (dict, optional): Additional HTTP headers as a dictionary.\n",
        "    data (dict, optional): Data to send with the request (for POST, PUT methods).\n",
        "    params (dict, optional): URL parameters to append to the request.\n",
        "    token (str, optional): GitHub API token for authentication.\n",
        "\n",
        "    Returns:\n",
        "    tuple: (response content as JSON if available, headers of the response)\n",
        "    \"\"\"\n",
        "    # Initialize headers if not provided\n",
        "    if headers is None:\n",
        "        headers = {}\n",
        "    # Add the authorization token to headers if provided\n",
        "    if token:\n",
        "        headers['Authorization'] = f'token {token}'\n",
        "    headers.setdefault('Accept', 'application/vnd.github.v3+json')\n",
        "\n",
        "    try:\n",
        "        # Make the HTTP request\n",
        "        response = requests.request(method, url, headers=headers, json=data, params=params)\n",
        "        response.raise_for_status()  # Raises an HTTPError for bad responses\n",
        "        return response.json(), response.headers\n",
        "    except requests.exceptions.HTTPError as e:\n",
        "        print(f\"HTTP Error: {e.response.status_code} {e.response.reason}\")\n",
        "    except requests.exceptions.RequestException as e:\n",
        "        print(f\"Request failed: {e}\")\n",
        "    except ValueError:  # Includes simplejson.decoder.JSONDecodeError\n",
        "        return response.text, response.headers  # Return plain text if JSON decoding fails"
      ]
    },
    {
      "cell_type": "markdown",
      "metadata": {
        "id": "h_WJ_5xUO6N2"
      },
      "source": [
        "Pull Requests"
      ]
    },
    {
      "cell_type": "code",
      "execution_count": null,
      "metadata": {
        "id": "ovsJawPNO88l"
      },
      "outputs": [],
      "source": [
        "def fetch_total_pull_requests(owner, repo, token):\n",
        "    \"\"\"\n",
        "    Fetches the total number of pull requests for a given repository.\n",
        "\n",
        "    Args:\n",
        "    owner (str): GitHub repository owner.\n",
        "    repo (str): GitHub repository name.\n",
        "    token (str): GitHub API token.\n",
        "\n",
        "    Returns:\n",
        "    int: Total number of pull requests.\n",
        "    \"\"\"\n",
        "    base_url = f'https://api.github.com/repos/{owner}/{repo}/pulls'\n",
        "    params = {'per_page': 100, 'state': 'all'}  # Fetch all PRs, both open and closed\n",
        "    total_pull_requests = 0\n",
        "\n",
        "    while True:\n",
        "        print(f\"Fetching URL: {base_url} with params: {params}\")  # Debugging output\n",
        "        response, headers = execute_http_query(base_url, params=params, token=token)\n",
        "        total_pull_requests += len(response)\n",
        "        print(f\"Found {len(response)} pull requests on this page. Total so far: {total_pull_requests}\")  # Debugging output\n",
        "\n",
        "        if 'next' in headers.get('Link', ''):\n",
        "            links = headers['Link'].split(',')\n",
        "            next_link = [link for link in links if 'rel=\"next\"' in link]\n",
        "            if next_link:\n",
        "                next_url = next_link[0].split(';')[0].strip(' <>')\n",
        "                base_url = next_url  # Update the URL to the next page's URL\n",
        "                print(f\"Next page URL: {next_url}\")  # Debugging output\n",
        "            else:\n",
        "                break\n",
        "        else:\n",
        "            break\n",
        "\n",
        "    return total_pull_requests"
      ]
    },
    {
      "cell_type": "markdown",
      "metadata": {
        "id": "vR4nTQRVO_yC"
      },
      "source": [
        "Issues"
      ]
    },
    {
      "cell_type": "code",
      "execution_count": null,
      "metadata": {
        "id": "vPIZ8nQUPCHb"
      },
      "outputs": [],
      "source": [
        "def get_issues(owner, repo, token):\n",
        "  query = \"\"\"\n",
        "  query GetRepositoryInfo($owner: String!, $repo: String!) {\n",
        "    repository(owner: $owner, name: $repo) {\n",
        "      all:issues {\n",
        "        totalCount\n",
        "      }\n",
        "      closed:issues(states:CLOSED) {\n",
        "        totalCount\n",
        "      }\n",
        "      open:issues(states:OPEN) {\n",
        "        totalCount\n",
        "      }\n",
        "    }\n",
        "  }\n",
        "  \"\"\"\n",
        "\n",
        "  variables = {\n",
        "      \"owner\": owner,\n",
        "      \"repo\": repo\n",
        "  }\n",
        "\n",
        "  # Execute the query\n",
        "  response = execute_graphql_query(query, variables, token)\n",
        "\n",
        "  all = response[\"data\"][\"repository\"][\"all\"][\"totalCount\"]\n",
        "  closed = response[\"data\"][\"repository\"][\"closed\"][\"totalCount\"]\n",
        "  open = response[\"data\"][\"repository\"][\"open\"][\"totalCount\"]\n",
        "\n",
        "  return all, closed, open"
      ]
    },
    {
      "cell_type": "markdown",
      "metadata": {
        "id": "aPj1u7oTPcHG"
      },
      "source": [
        "Issue-Resolution turnaround time"
      ]
    },
    {
      "cell_type": "code",
      "execution_count": null,
      "metadata": {
        "id": "XV9LGPy7PffP"
      },
      "outputs": [],
      "source": [
        "def calculate_average_turnaround(owner, repo, token):\n",
        "    # Query\n",
        "    query = \"\"\"\n",
        "    query GetIssueTurnaroundTimes($owner: String!, $repo: String!) {\n",
        "      repository(owner: $owner, name: $repo) {\n",
        "        issues(first: 100) {  # Adjust 'first' for pagination\n",
        "          edges {\n",
        "            node {\n",
        "              createdAt\n",
        "              closedAt\n",
        "            }\n",
        "          }\n",
        "          pageInfo {\n",
        "            endCursor\n",
        "            hasNextPage\n",
        "          }\n",
        "        }\n",
        "      }\n",
        "    }\n",
        "    \"\"\"\n",
        "\n",
        "    variables = {\n",
        "          \"owner\": owner,\n",
        "          \"repo\": repo\n",
        "      }\n",
        "\n",
        "    # Execute the query\n",
        "    data = execute_graphql_query(query, variables, token)\n",
        "\n",
        "    times = []\n",
        "    for edge in data['data']['repository']['issues']['edges']:\n",
        "        if edge['node']['closedAt']:\n",
        "            start = datetime.fromisoformat(edge['node']['createdAt'].replace('Z', '+00:00'))\n",
        "            end = datetime.fromisoformat(edge['node']['closedAt'].replace('Z', '+00:00'))\n",
        "            delta = end - start\n",
        "            times.append(delta.total_seconds())\n",
        "\n",
        "    average_seconds = sum(times) / len(times) if times else 0\n",
        "\n",
        "    return average_seconds / 86400  # Convert seconds to days"
      ]
    },
    {
      "cell_type": "markdown",
      "metadata": {
        "id": "z2Fq1h8xKRKv"
      },
      "source": [
        "---\n",
        "\n",
        "### Load Grantee Sheet"
      ]
    },
    {
      "cell_type": "code",
      "execution_count": null,
      "metadata": {
        "colab": {
          "base_uri": "https://localhost:8080/",
          "height": 111
        },
        "id": "5wRtJ60TKRKv",
        "outputId": "4660c27d-5e89-4c60-9be5-cfb1d56a2d8b"
      },
      "outputs": [],
      "source": [
        "# Create and display the file upload widget\n",
        "uploaded_files = files.upload()"
      ]
    },
    {
      "cell_type": "markdown",
      "metadata": {
        "id": "DfUyE-KnLq4d"
      },
      "source": [
        "Check if upload is ok"
      ]
    },
    {
      "cell_type": "code",
      "execution_count": null,
      "metadata": {
        "colab": {
          "base_uri": "https://localhost:8080/",
          "height": 348
        },
        "collapsed": true,
        "id": "_OwaeH_lKtzP",
        "outputId": "fea441a1-f1e2-4fbe-989a-872a5a9eddbe"
      },
      "outputs": [],
      "source": [
        "filename, content = next(iter(uploaded_files.items()))\n",
        "df = pd.read_csv(io.BytesIO(content))\n",
        "metrics_df = df[['Opportunity Name', 'Account Name', 'Github', 'Contract: Completed Date', 'Contract: Contract Start Date', 'Contract: Contract End Date']]\n",
        "metrics_df.head()"
      ]
    },
    {
      "cell_type": "markdown",
      "metadata": {
        "id": "1zRfHLcML2IR"
      },
      "source": [
        "---\n",
        "\n",
        "### Generate Metrics"
      ]
    },
    {
      "cell_type": "code",
      "execution_count": null,
      "metadata": {
        "id": "3WvJwL8_SbEE"
      },
      "outputs": [],
      "source": [
        "token = \"\""
      ]
    },
    {
      "cell_type": "code",
      "execution_count": null,
      "metadata": {
        "collapsed": true,
        "id": "E_Xy--EIK2LY"
      },
      "outputs": [],
      "source": [
        "owner_repo_list = extract_github_owner_repo(metrics_df, 'Github')"
      ]
    },
    {
      "cell_type": "code",
      "execution_count": null,
      "metadata": {
        "id": "ax5f-dkZ7ABz"
      },
      "outputs": [],
      "source": [
        "def generate_metrics(owner_repo_list):\n",
        "  generic_data = []\n",
        "  stars = []\n",
        "  forks = []\n",
        "  pulls = []\n",
        "  issues = []\n",
        "  issue_tots = []\n",
        "  licenses = []\n",
        "\n",
        "  for owner, repo in owner_repo_list:\n",
        "    if repo:\n",
        "      print(f\"Fetching generic data for {owner}/{repo}\")\n",
        "      gd = execute_http_query(f'https://api.github.com/repos/{owner}/{repo}', token=token)[0]\n",
        "      generic_data.append(gd)\n",
        "      stars.append(gd[\"stargazers_count\"])\n",
        "      forks.append(gd[\"forks_count\"])\n",
        "      licenses.append(gd[\"license\"])\n",
        "      sleep(0.1)\n",
        "      print(f\"Fetching pull data for {owner}/{repo}\")\n",
        "      pulls.append(fetch_total_pull_requests(owner, repo, token))\n",
        "      sleep(0.1)\n",
        "      print(f\"Fetching issue data for {owner}/{repo}\")\n",
        "      issues.append(get_issues(owner, repo, token))\n",
        "      sleep(0.1)\n",
        "      print(f\"Calculating issue turnaround time for {owner}/{repo}\")\n",
        "      issue_tots.append(calculate_average_turnaround(owner, repo, token))\n",
        "      sleep(0.1)\n",
        "    else:\n",
        "      print(f\"No repo listed for {owner}\")\n",
        "      generic_data.append(None)\n",
        "      stars.append(None)\n",
        "      forks.append(None)\n",
        "      pulls.append(None)\n",
        "      issues.append(None)\n",
        "      issue_tots.append(None)\n",
        "      licenses.append(None)\n",
        "\n",
        "    clear_output(wait=True)\n",
        "\n",
        "  return generic_data, stars, forks, pulls, issues, issue_tots, licenses"
      ]
    },
    {
      "cell_type": "code",
      "execution_count": null,
      "metadata": {
        "colab": {
          "base_uri": "https://localhost:8080/",
          "height": 280
        },
        "id": "aK6VQrouTv5A",
        "outputId": "e3e28841-7444-49e9-e9ca-bde5a9f252a7"
      },
      "outputs": [],
      "source": [
        "generic_data, stars, forks, pulls, issues, issue_tots, licenses = generate_metrics(owner_repo_list)"
      ]
    },
    {
      "cell_type": "code",
      "execution_count": null,
      "metadata": {
        "id": "CUR9D9lfXcoa"
      },
      "outputs": [],
      "source": [
        "metrics_df[\"stars\"] = stars\n",
        "metrics_df[\"forks\"] = forks\n",
        "metrics_df[\"pulls\"] = pulls\n",
        "metrics_df[\"issues\"] = issues\n",
        "metrics_df[\"issue_tots\"] = issue_tots\n",
        "metrics_df[\"license\"] = licenses"
      ]
    },
    {
      "cell_type": "code",
      "execution_count": null,
      "metadata": {
        "colab": {
          "base_uri": "https://localhost:8080/",
          "height": 1000
        },
        "id": "VPM7TnmiAD0F",
        "outputId": "c2166f5b-ab21-49ad-fa3c-7b36bee70786"
      },
      "outputs": [],
      "source": [
        "metrics_df"
      ]
    },
    {
      "cell_type": "markdown",
      "metadata": {
        "id": "DBpP0QILFfav"
      },
      "source": [
        "Donwload CSV"
      ]
    },
    {
      "cell_type": "code",
      "execution_count": null,
      "metadata": {
        "colab": {
          "base_uri": "https://localhost:8080/",
          "height": 37
        },
        "id": "IAySQ3kyFgoi",
        "outputId": "e8fdcd2c-ac50-4cbd-d583-08148eb2f150"
      },
      "outputs": [],
      "source": [
        "# Save the CSV content to a file\n",
        "with open('metrics_data.csv', 'w') as f:\n",
        "    f.write(metrics_df.to_csv(index=False))\n",
        "\n",
        "# Use the files.download() function to offer the file for download\n",
        "files.download('metrics_data.csv')"
      ]
    }
  ],
  "metadata": {
    "colab": {
      "provenance": []
    },
    "kernelspec": {
      "display_name": "Python 3",
      "language": "python",
      "name": "python3"
    },
    "language_info": {
      "codemirror_mode": {
        "name": "ipython",
        "version": 3
      },
      "file_extension": ".py",
      "mimetype": "text/x-python",
      "name": "python",
      "nbconvert_exporter": "python",
      "pygments_lexer": "ipython3",
      "version": "3.10.12"
    }
  },
  "nbformat": 4,
  "nbformat_minor": 0
}
